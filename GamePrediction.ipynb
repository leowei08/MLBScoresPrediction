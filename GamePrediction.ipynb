{
 "cells": [
  {
   "cell_type": "code",
   "execution_count": 1,
   "metadata": {},
   "outputs": [],
   "source": [
    "# Import libraries\n",
    "import statsapi\n",
    "import requests as re\n",
    "from urllib.request import urlopen\n",
    "import pandas as pd\n",
    "import datetime\n",
    "import numpy as np\n",
    "from tqdm import tqdm\n",
    "import time\n",
    "from bs4 import BeautifulSoup\n",
    "from sklearn.model_selection import train_test_split\n",
    "from sklearn.linear_model import LinearRegression\n",
    "import pickle\n",
    "import matplotlib.pyplot as plt\n",
    "pd.set_option('display.max_columns', 500)"
   ]
  },
  {
   "cell_type": "code",
   "execution_count": 3,
   "metadata": {},
   "outputs": [],
   "source": [
    "# Read in data files\n",
    "df= pd.concat([pd.read_csv('Data/2012.csv'),pd.read_csv('Data/2013.csv'),\n",
    "               pd.read_csv('Data/2014.csv'),pd.read_csv('Data/2015.csv'),\n",
    "               pd.read_csv('Data/2016.csv'),pd.read_csv('Data/2017.csv'),\n",
    "               pd.read_csv('Data/2018.csv'),pd.read_csv('Data/2019.csv')])\n",
    "\n",
    "runs = pd.read_csv('Data/runs.csv')\n",
    "awayp = pd.read_csv('Data/awaypitchers.csv')\n",
    "homep = pd.read_csv('Data/homepitchers.csv')\n",
    "splits = pd.read_csv('Data/teambattingsplits12-19.csv')\n",
    "abbre = pd.read_csv('Data/teamabbre.csv')\n",
    "\n",
    "# Merge them\n",
    "df = df[['game_id','game_date','away_name','home_name','away_id','home_id','temp','daytime']]\n",
    "df = df.merge(runs,left_on=['game_id'],right_on=['gameid']).drop(columns=['gameid','awayruns','homeruns']).merge(awayp,left_on=['game_id'],right_on=['game_id']).merge(homep,left_on=['game_id'],right_on=['game_id'],suffixes=['_away','_home'])\n",
    "df['year'] = df['game_date'].str.extract(r'(\\d{4})-\\d{2}-\\d{2}').astype(int)\n",
    "df = df.merge(abbre,left_on=['away_id'],right_on=['teamid']).drop(columns=['teamid']).merge(abbre,left_on=['home_id'],right_on=['teamid'],suffixes=['_away','_home']).drop(columns=['teamid'])\n",
    "splitsaway = splits[splits['place']=='away']\n",
    "splitshome = splits[splits['place']=='home']\n",
    "df = df.merge(splitsaway,left_on=['teamabb_away','year'],right_on=['team','year']).drop(columns=['place','team']).merge(splitshome,left_on=['teamabb_home','year'],right_on=['team','year'],suffixes=['_away','_home']).drop(columns=['place','team'])\n",
    "\n",
    "# Select the predictors\n",
    "pca = ['avg_away','obp_away','slg_away','ops_away','stolenBasePercentage_away','era_away','whip_away','strikePercentage_away','groundOutsToAirouts_away','pitchesPerInning_away','strikeoutWalkRatio_away','strikeoutsPer9Inn_away','walksPer9Inn_away','hitsPer9Inn_away','runsScoredPer9_away','homeRunsPer9_away']\n",
    "pch = ['avg_home','obp_home','slg_home','ops_home','stolenBasePercentage_home','era_home','whip_home','strikePercentage_home','groundOutsToAirouts_home','pitchesPerInning_home','strikeoutWalkRatio_home','strikeoutsPer9Inn_home','walksPer9Inn_home','hitsPer9Inn_home','runsScoredPer9_home','homeRunsPer9_home']\n",
    "bca = ['BA_away','OBP_away','SLG_away','OPS_away','BAbip_away']\n",
    "bch = ['BA_home','OBP_home','SLG_home','OPS_home','BAbip_home']\n",
    "temp = ['temp','daytime']"
   ]
  },
  {
   "cell_type": "code",
   "execution_count": 5,
   "metadata": {},
   "outputs": [],
   "source": [
    "# Get the independent and target variables\n",
    "ytotal = df['total']\n",
    "ydiff = df['diff']\n",
    "train = df.drop(columns=['game_id','game_date','away_name','home_name','away_id','home_id','total','diff','teamabb_away','teamabb_home','year'])"
   ]
  },
  {
   "cell_type": "code",
   "execution_count": 6,
   "metadata": {},
   "outputs": [],
   "source": [
    "train=train[pca+pch+bca+bch+temp]"
   ]
  },
  {
   "cell_type": "code",
   "execution_count": 7,
   "metadata": {},
   "outputs": [],
   "source": [
    "# Reformat the time variables\n",
    "train[['hour','PM']] = train['daytime'].str.extract(r'(\\d*):\\d{2} ([AP]M)')\n",
    "train['hour'] = train['hour'].astype(int)\n",
    "train['time24'] = train.replace({'PM':12,'AM':0}).apply(lambda x:x['hour']+x['PM'],axis=1)\n",
    "train.drop(columns=['daytime','hour','PM'],inplace=True)"
   ]
  },
  {
   "cell_type": "code",
   "execution_count": 8,
   "metadata": {},
   "outputs": [],
   "source": [
    "# Replace null averages by 0\n",
    "train = train.replace('.---',0).replace('-.--',0).astype(float)"
   ]
  },
  {
   "cell_type": "markdown",
   "metadata": {},
   "source": [
    "## Train for Over/Under"
   ]
  },
  {
   "cell_type": "code",
   "execution_count": 10,
   "metadata": {},
   "outputs": [],
   "source": [
    "# Split into train and test datasets\n",
    "xtrain, xtest, ytrain, ytest = train_test_split(train, ytotal, test_size=0.15, random_state=520)"
   ]
  },
  {
   "cell_type": "code",
   "execution_count": 11,
   "metadata": {},
   "outputs": [],
   "source": [
    "# Linear regression on log transformation\n",
    "l = LinearRegression().fit(xtrain,np.log(ytrain))"
   ]
  },
  {
   "cell_type": "code",
   "execution_count": 12,
   "metadata": {},
   "outputs": [
    {
     "data": {
      "text/plain": [
       "3.5046045971374333"
      ]
     },
     "execution_count": 12,
     "metadata": {},
     "output_type": "execute_result"
    }
   ],
   "source": [
    "# mean absolute error\n",
    "np.mean(abs(np.exp(l.predict(xtest)) - ytest))"
   ]
  },
  {
   "cell_type": "code",
   "execution_count": 13,
   "metadata": {},
   "outputs": [
    {
     "data": {
      "text/plain": [
       "0.052604878209418726"
      ]
     },
     "execution_count": 13,
     "metadata": {},
     "output_type": "execute_result"
    }
   ],
   "source": [
    "# R-squared\n",
    "l.score(xtest,np.log(ytest))"
   ]
  },
  {
   "cell_type": "code",
   "execution_count": 14,
   "metadata": {},
   "outputs": [
    {
     "data": {
      "text/plain": [
       "(array([ 37., 308., 644., 746., 501., 329., 165.,  77.,  26.,   9.]),\n",
       " array([-2.35888063, -1.73500361, -1.1111266 , -0.48724959,  0.13662742,\n",
       "         0.76050443,  1.38438145,  2.00825846,  2.63213547,  3.25601248,\n",
       "         3.8798895 ]),\n",
       " <a list of 10 Patch objects>)"
      ]
     },
     "execution_count": 14,
     "metadata": {},
     "output_type": "execute_result"
    },
    {
     "data": {
      "image/png": "[encoded data removed]",
      "text/plain": [
       "<Figure size 432x288 with 1 Axes>"
      ]
     },
     "metadata": {
      "needs_background": "light"
     },
     "output_type": "display_data"
    }
   ],
   "source": [
    "# Plot the standardized residuals\n",
    "resid = ytest-np.exp(l.predict(xtest))\n",
    "resid = (resid - np.mean(resid)) / np.std(resid)\n",
    "plt.hist(resid)"
   ]
  },
  {
   "cell_type": "code",
   "execution_count": 15,
   "metadata": {},
   "outputs": [],
   "source": [
    "# save the model\n",
    "pickle.dump(l, open('total.sav', 'wb'))"
   ]
  },
  {
   "cell_type": "markdown",
   "metadata": {},
   "source": [
    "## Train for Score Difference"
   ]
  },
  {
   "cell_type": "code",
   "execution_count": 16,
   "metadata": {},
   "outputs": [],
   "source": [
    "# Split into train and test datasets\n",
    "xtrain, xtest, ytrain, ytest = train_test_split(train, ydiff, test_size=0.15, random_state=520)"
   ]
  },
  {
   "cell_type": "code",
   "execution_count": 17,
   "metadata": {},
   "outputs": [],
   "source": [
    "# Linear regression\n",
    "l = LinearRegression().fit(xtrain,ytrain)"
   ]
  },
  {
   "cell_type": "code",
   "execution_count": 18,
   "metadata": {},
   "outputs": [
    {
     "data": {
      "text/plain": [
       "3.8743653546482975"
      ]
     },
     "execution_count": 18,
     "metadata": {},
     "output_type": "execute_result"
    }
   ],
   "source": [
    "# mean absolute error\n",
    "np.mean(abs(np.exp(l.predict(xtest)) - ytest))"
   ]
  },
  {
   "cell_type": "code",
   "execution_count": 19,
   "metadata": {},
   "outputs": [
    {
     "data": {
      "text/plain": [
       "0.06430316593535734"
      ]
     },
     "execution_count": 19,
     "metadata": {},
     "output_type": "execute_result"
    }
   ],
   "source": [
    "# R-squared\n",
    "l.score(xtest,ytest)"
   ]
  },
  {
   "cell_type": "code",
   "execution_count": 20,
   "metadata": {},
   "outputs": [
    {
     "data": {
      "text/plain": [
       "(array([  6.,  36., 105., 362., 870., 817., 440., 158.,  36.,  12.]),\n",
       " array([-3.86749577, -3.10726918, -2.34704259, -1.586816  , -0.8265894 ,\n",
       "        -0.06636281,  0.69386378,  1.45409037,  2.21431697,  2.97454356,\n",
       "         3.73477015]),\n",
       " <a list of 10 Patch objects>)"
      ]
     },
     "execution_count": 20,
     "metadata": {},
     "output_type": "execute_result"
    },
    {
     "data": {
      "image/png": "[encoded data removed]",
      "text/plain": [
       "<Figure size 432x288 with 1 Axes>"
      ]
     },
     "metadata": {
      "needs_background": "light"
     },
     "output_type": "display_data"
    }
   ],
   "source": [
    "# Plot the standardized residuals\n",
    "resid = ytest-l.predict(xtest)\n",
    "resid = (resid - np.mean(resid)) / np.std(resid)\n",
    "plt.hist(resid)"
   ]
  },
  {
   "cell_type": "code",
   "execution_count": 21,
   "metadata": {},
   "outputs": [],
   "source": [
    "# Save the model\n",
    "pickle.dump(l, open('diff.sav', 'wb'))"
   ]
  }
 ],
 "metadata": {
  "kernelspec": {
   "display_name": "Python 3",
   "language": "python",
   "name": "python3"
  },
  "language_info": {
   "codemirror_mode": {
    "name": "ipython",
    "version": 3
   },
   "file_extension": ".py",
   "mimetype": "text/x-python",
   "name": "python",
   "nbconvert_exporter": "python",
   "pygments_lexer": "ipython3",
   "version": "3.7.11"
  }
 },
 "nbformat": 4,
 "nbformat_minor": 4
}
