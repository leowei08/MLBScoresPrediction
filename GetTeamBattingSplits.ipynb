{
 "cells": [
  {
   "cell_type": "code",
   "execution_count": 1,
   "metadata": {},
   "outputs": [],
   "source": [
    "# Import libraries\n",
    "import statsapi\n",
    "import pandas as pd\n",
    "import datetime\n",
    "import numpy as np\n",
    "from tqdm import tqdm\n",
    "import time\n",
    "from selenium import webdriver\n",
    "pd.set_option('display.max_columns', 500)\n",
    "from selenium import webdriver\n",
    "driver = webdriver.Firefox()"
   ]
  },
  {
   "cell_type": "code",
   "execution_count": 3,
   "metadata": {},
   "outputs": [],
   "source": [
    "# Read in team abbreviations\n",
    "df = pd.read_csv('Data/teamabbre.csv')"
   ]
  },
  {
   "cell_type": "code",
   "execution_count": 4,
   "metadata": {},
   "outputs": [
    {
     "name": "stderr",
     "output_type": "stream",
     "text": [
      "100%|██████████████████████████████████████████████████████████████████████████████████| 30/30 [03:04<00:00,  6.14s/it]\n"
     ]
    }
   ],
   "source": [
    "# Web-scrape team batting splits (home/away)\n",
    "s = {'place':[],'team':[],'year':[],'BA':[],'OBP':[], 'SLG':[], 'OPS':[], 'BAbip':[]}\n",
    "for team in tqdm(df['teamabb']):\n",
    "\n",
    "    if team == 'WAS':\n",
    "        teamm = 'WSN'\n",
    "    elif team == 'CWS':\n",
    "        teamm = 'CHW'\n",
    "    elif team == 'ANA':\n",
    "        teamm = 'LAA'\n",
    "    elif team == 'SF':\n",
    "        teamm = 'SFG'\n",
    "    elif team == 'KC':\n",
    "        teamm = 'KCR'\n",
    "    elif team == 'LA':\n",
    "        teamm = 'LAD'\n",
    "    elif team == 'TB':\n",
    "        teamm = 'TBR'\n",
    "    elif team == 'SD':\n",
    "        teamm = 'SDP'\n",
    "    else:\n",
    "        teamm = team\n",
    "    for year in range (2012,2013,1):\n",
    "        driver.get(\"https://www.baseball-reference.com/teams/split.cgi?t=b&team=\"+teamm+\"&year=\"+str(year))\n",
    "        t = driver.find_element_by_id(\"hmvis\").text\n",
    "\n",
    "        home = t.split('\\n')[1].split(' ')\n",
    "        s['BA'].append(home[15])\n",
    "        s['OBP'].append(home[16])\n",
    "        s['SLG'].append(home[17])\n",
    "        s['OPS'].append(home[18])\n",
    "        s['BAbip'].append(home[26])\n",
    "        s['place'].append('home')\n",
    "        s['team'].append(team)\n",
    "        s['year'].append(year)\n",
    "\n",
    "        away = t.split('\\n')[2].split(' ')\n",
    "        s['BA'].append(away[15])\n",
    "        s['OBP'].append(away[16])\n",
    "        s['SLG'].append(away[17])\n",
    "        s['OPS'].append(away[18])\n",
    "        s['BAbip'].append(away[26])\n",
    "        s['place'].append('away')\n",
    "        s['team'].append(team)\n",
    "        s['year'].append(year)\n",
    "        time.sleep(2)\n"
   ]
  },
  {
   "cell_type": "code",
   "execution_count": 30,
   "metadata": {},
   "outputs": [],
   "source": [
    "# Save it\n",
    "pd.DataFrame(s).to_csv('Data/teambattingsplits.csv',index=False)"
   ]
  }
 ],
 "metadata": {
  "kernelspec": {
   "display_name": "Python 3",
   "language": "python",
   "name": "python3"
  },
  "language_info": {
   "codemirror_mode": {
    "name": "ipython",
    "version": 3
   },
   "file_extension": ".py",
   "mimetype": "text/x-python",
   "name": "python",
   "nbconvert_exporter": "python",
   "pygments_lexer": "ipython3",
   "version": "3.7.11"
  }
 },
 "nbformat": 4,
 "nbformat_minor": 4
}
